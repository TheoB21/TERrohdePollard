{
 "cells": [
  {
   "cell_type": "code",
   "execution_count": 18,
   "metadata": {},
   "outputs": [],
   "source": [
    "#p=next_prime(2<<1024)\n",
    "#K=GF(p) #on prend un corps sur un nb premier a 1024 bit\n",
    "\n",
    "#le but c'est de calculer log_g(h)\n",
    "#G=<g> (groupe multiplicatif) (inclus dans F_p)\n",
    "\n",
    "\n",
    "\n",
    "def rho(g,h,n): #version de base de Pollard\n",
    "    Y_EVEN,Y = 1,1 #Y_EVEN c'est y_2i\n",
    "    A_EVEN,A = 0,0\n",
    "    B_EVEN,B = 0,0\n",
    "    i = 0\n",
    "    r = 0\n",
    "    while True :\n",
    "        i=i+1 #fonction itération\n",
    "        Y,A,B = f(Y,A,B,g,h,n)\n",
    "        Y_EVEN,A_EVEN,B_EVEN=f(Y_EVEN,A_EVEN,B_EVEN,g,h,n) #f_(2i+1)\n",
    "        Y_EVEN,A_EVEN,B_EVEN=f(Y_EVEN,A_EVEN,B_EVEN,g,h,n) #f_(2i+2)=f_(2(i+1))\n",
    "        l.append([i,Y,A,B,Y_EVEN,A_EVEN,B_EVEN])\n",
    "        #detection collision \n",
    "        if Y == Y_EVEN:\n",
    "            r = (B-B_EVEN) % n\n",
    "            if r == 0:\n",
    "                return None\n",
    "            return (inverse_mod(r,n) * (A_EVEN - A)) % n"
   ]
  },
  {
   "cell_type": "code",
   "execution_count": 13,
   "metadata": {},
   "outputs": [],
   "source": [
    "def f(Y,A,B,g,h,n): #fonction d'itération\n",
    "    z=int(Y) %3\n",
    "    if z == 1: # S1\n",
    "        return h * Y , A , (B+1) % n\n",
    "    if z == 0: # S2\n",
    "        return Y * Y, (2*A) % n ,(2*B) % n\n",
    "    if z == 2: # S3\n",
    "        return g *Y , (A+1) % n , B\n",
    "    return None"
   ]
  },
  {
   "cell_type": "code",
   "execution_count": 21,
   "metadata": {},
   "outputs": [],
   "source": [
    "k=GF(383) #corps dna lequel on travail\n",
    "g=k(2) #générateur\n",
    "h=k(228) \n",
    "n=191 #ordre du sous groupe engendré par g\n",
    "l=[]"
   ]
  },
  {
   "cell_type": "markdown",
   "metadata": {},
   "source": [
    "Nous souhaitons calculer $log_g(h)$ "
   ]
  },
  {
   "cell_type": "code",
   "execution_count": 22,
   "metadata": {},
   "outputs": [
    {
     "name": "stdout",
     "output_type": "stream",
     "text": [
      "110\n"
     ]
    }
   ],
   "source": [
    "l=[]\n",
    "print(rho(g,h,n))"
   ]
  },
  {
   "cell_type": "code",
   "execution_count": 24,
   "metadata": {},
   "outputs": [
    {
     "data": {
      "text/plain": [
       "[[1, 228, 0, 1, 279, 0, 2],\n",
       " [2, 279, 0, 2, 184, 1, 4],\n",
       " [3, 92, 0, 4, 14, 1, 6],\n",
       " [4, 184, 1, 4, 256, 2, 7],\n",
       " [5, 205, 1, 5, 304, 3, 8],\n",
       " [6, 14, 1, 6, 121, 6, 18],\n",
       " [7, 28, 2, 6, 144, 12, 38],\n",
       " [8, 256, 2, 7, 235, 48, 152],\n",
       " [9, 152, 2, 8, 72, 48, 154],\n",
       " [10, 304, 3, 8, 14, 96, 118],\n",
       " [11, 372, 3, 9, 256, 97, 119],\n",
       " [12, 121, 6, 18, 304, 98, 120],\n",
       " [13, 12, 6, 19, 121, 5, 51],\n",
       " [14, 144, 12, 38, 144, 10, 104]]"
      ]
     },
     "execution_count": 24,
     "metadata": {},
     "output_type": "execute_result"
    }
   ],
   "source": [
    "l"
   ]
  },
  {
   "cell_type": "code",
   "execution_count": null,
   "metadata": {},
   "outputs": [],
   "source": []
  }
 ],
 "metadata": {
  "kernelspec": {
   "display_name": "SageMath 9.4",
   "language": "sage",
   "name": "sagemath"
  },
  "language_info": {
   "codemirror_mode": {
    "name": "ipython",
    "version": 3
   },
   "file_extension": ".py",
   "mimetype": "text/x-python",
   "name": "python",
   "nbconvert_exporter": "python",
   "pygments_lexer": "ipython3",
   "version": "3.9.5"
  }
 },
 "nbformat": 4,
 "nbformat_minor": 4
}
