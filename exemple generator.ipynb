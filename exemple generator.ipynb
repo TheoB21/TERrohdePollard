{
 "cells": [
  {
   "cell_type": "code",
   "execution_count": 6,
   "metadata": {},
   "outputs": [],
   "source": [
    "def generate_exemple(size1,size2):\n",
    "    p=1\n",
    "    k=size2-size1\n",
    "    g=2\n",
    "    while not is_prime(p):\n",
    "        q=random_prime((1<<size1)-1,lbound=(1<<(size1-1)))\n",
    "        a=randint(1<<(k),1<<(k+1)-1)\n",
    "        p=q*a+1\n",
    "    while True:\n",
    "        h=power_mod(g,a,p)\n",
    "        if h != 1:\n",
    "            break\n",
    "        g=g+1\n",
    "    return p,q,h"
   ]
  },
  {
   "cell_type": "code",
   "execution_count": 26,
   "metadata": {},
   "outputs": [],
   "source": [
    "p,q,g=generate_exemple(50,1024);h=power_mod(g,10,p);"
   ]
  },
  {
   "cell_type": "code",
   "execution_count": 27,
   "metadata": {},
   "outputs": [
    {
     "name": "stdout",
     "output_type": "stream",
     "text": [
      "89250582123904813809001101234350211790809818806843451641115824286942728062121928793658984566425515737092758047348649917152807416090797152028852289361570908255634736904425233467026937386281109044680321428092621355842195376370189976471219852700763912369503947458336998879236775317960697855029281915430945721881\n",
      "103394831615348856003614790088732460447295357311132342886387492846876953730489176513522119947573989527760066259857339338381919521069137584982902637318541735846789134379795071220868993850903016008860949865665913989405944071221041401870622950770857028529342921021931528591413065846051321804436987750710580643059\n",
      "106117615730473656510860273413629798922070614206509826619975009088925703810776715498273377814051592722168162848024743988175504589627123134976300941591267073366925706458533171140351928620364132707176661120939820113145503144805641885052402688727740244534890367607332500818629099945571392615160477675960362074113\n",
      "664617399645643\n"
     ]
    }
   ],
   "source": [
    "print(g)\n",
    "print(h)\n",
    "print(p)\n",
    "print(q)\n",
    "#on a set up rle mutli coeur pour p 1024 bit! On va garfder p 1024 bit pour tout les test\n",
    "#On fait varier taille de q juste \n",
    "#on voudrait jsute optimiser le choix de la taille pts distingué avant lancé test"
   ]
  },
  {
   "cell_type": "code",
   "execution_count": null,
   "metadata": {},
   "outputs": [],
   "source": [
    "#test de 3 jeux de données avec q = 30 35 40 45 50 test 5 fois chacun"
   ]
  },
  {
   "cell_type": "code",
   "execution_count": 17,
   "metadata": {},
   "outputs": [
    {
     "name": "stdout",
     "output_type": "stream",
     "text": [
      "22009954597565073649954894504861814515608418829062231819159254815638292734136770829844631793269821092956649785194986510271750045976117045009202433725809381387255911489699349281795001402112800739114592059336813380061655024954673892116925676603521266705218474479330455081097795396797497490183543425887017530723 5224464477669441467292134833599023037808821662088534788311717974246194193156265711082033743949046002113547862323699123925544086958795696074191034371738825869548458891578310723689450982841087764062667703306629941745319192396318450929985012590806525000438135251906462435842884741382139560399353612417358717489 137075157625058104701517608961782879152826967934078262727772502832476346628307701685214356840399626468392696961411651130682860235569807567986162839927120427975746623644545558710835713621725343369813627948219051815562983746975857077276270089489383793878462664598481299330945577961508588865071095449673529294849 879109420337229253\n"
     ]
    }
   ],
   "source": [
    "print(f\"{g} {h} {p} {q}\")"
   ]
  },
  {
   "cell_type": "code",
   "execution_count": 5,
   "metadata": {},
   "outputs": [
    {
     "data": {
      "text/plain": [
       "5091041159863744968339731212312260494669660893549968531987566758075169591920294405524756104298744736733293165398457033040655438326662544416955297937017596"
      ]
     },
     "execution_count": 5,
     "metadata": {},
     "output_type": "execute_result"
    }
   ],
   "source": [
    "g"
   ]
  },
  {
   "cell_type": "code",
   "execution_count": 6,
   "metadata": {},
   "outputs": [],
   "source": [
    "h=power_mod(g,454514,p)"
   ]
  },
  {
   "cell_type": "code",
   "execution_count": 7,
   "metadata": {},
   "outputs": [
    {
     "data": {
      "text/plain": [
       "7276179726323648962965770778591954200260602982371890848445202068607484002762262525348353851699334255510145197898994208998154033240726732483023839569416409"
      ]
     },
     "execution_count": 7,
     "metadata": {},
     "output_type": "execute_result"
    }
   ],
   "source": [
    "h"
   ]
  },
  {
   "cell_type": "code",
   "execution_count": 64,
   "metadata": {},
   "outputs": [],
   "source": [
    "p,q,g,h=generate_exemple(64,512)"
   ]
  },
  {
   "cell_type": "code",
   "execution_count": 65,
   "metadata": {},
   "outputs": [
    {
     "data": {
      "text/plain": [
       "(9345285387555261126999282775480266183526612288974155295332822587789633851624711842004924948645059214190828611562476675523311468724566532238257129120595969,\n",
       " 12857440137923242003,\n",
       " 2,\n",
       " 7190663018542378478977542160144472816812353096771129376432454700851881201320493073941839930081671699285118344731567297105266491257673794801723322818294535)"
      ]
     },
     "execution_count": 65,
     "metadata": {},
     "output_type": "execute_result"
    }
   ],
   "source": [
    "p,q,g,h"
   ]
  },
  {
   "cell_type": "code",
   "execution_count": 5,
   "metadata": {},
   "outputs": [
    {
     "data": {
      "text/plain": [
       "16661322028187125381"
      ]
     },
     "execution_count": 5,
     "metadata": {},
     "output_type": "execute_result"
    }
   ],
   "source": [
    "q"
   ]
  },
  {
   "cell_type": "code",
   "execution_count": 7,
   "metadata": {},
   "outputs": [
    {
     "data": {
      "text/plain": [
       "2902255339406432230447611385612205215450057516916180241528645725133997764642550773873497825601905397996218011225469186464409380744719554453688654029433442"
      ]
     },
     "execution_count": 7,
     "metadata": {},
     "output_type": "execute_result"
    }
   ],
   "source": [
    "g"
   ]
  },
  {
   "cell_type": "code",
   "execution_count": null,
   "metadata": {},
   "outputs": [],
   "source": []
  }
 ],
 "metadata": {
  "kernelspec": {
   "display_name": "SageMath 9.4",
   "language": "sage",
   "name": "sagemath"
  },
  "language_info": {
   "codemirror_mode": {
    "name": "ipython",
    "version": 3
   },
   "file_extension": ".py",
   "mimetype": "text/x-python",
   "name": "python",
   "nbconvert_exporter": "python",
   "pygments_lexer": "ipython3",
   "version": "3.9.5"
  }
 },
 "nbformat": 4,
 "nbformat_minor": 4
}
